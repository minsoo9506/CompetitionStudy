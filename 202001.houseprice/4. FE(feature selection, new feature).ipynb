{
 "cells": [
  {
   "cell_type": "code",
   "execution_count": 1,
   "metadata": {},
   "outputs": [],
   "source": [
    "import pandas as pd\n",
    "import numpy as np\n",
    "import matplotlib.pyplot as plt\n",
    "import seaborn as sns\n",
    "import pickle\n",
    "%matplotlib inline\n",
    "pd.set_option(\"display.max_columns\",999)"
   ]
  },
  {
   "cell_type": "code",
   "execution_count": 2,
   "metadata": {},
   "outputs": [],
   "source": [
    "# train = pd.read_pickle(\"train_outdel.pkl\")\n",
    "# test = pd.read_pickle(\"test_outdel.pkl\")\n",
    "df = pd.read_pickle(\"df_outdel.pkl\")\n",
    "\n",
    "# SalePrice가 없는 상태\n",
    "# NA값이 없는 상태 NA값이 있는 경우 : 지워야 할 것들\n",
    "df_FE_num_mean = pd.read_pickle(\"df_outdel_fillmean.pkl\")\n",
    "df_FE_num_medi = pd.read_pickle(\"df_outdel_fillmedi.pkl\")\n",
    "df_FE_cate = pd.read_pickle('df_FE(cate).pkl')"
   ]
  },
  {
   "cell_type": "markdown",
   "metadata": {},
   "source": [
    "- 지울 category feature\n",
    "['Alley',\n",
    " 'PoolQC',\n",
    " 'Fence',\n",
    " 'MiscFeature',\n",
    " 'Street',\n",
    " 'LandContour',\n",
    " 'Utilities',\n",
    " 'LandSlope',\n",
    " 'Condition1',\n",
    " 'Condition2',\n",
    " 'BldgType',\n",
    " 'RoofMatl',\n",
    " 'ExterCond',\n",
    " 'BsmtCond',\n",
    " 'BsmtFinType2',\n",
    " 'Heating',\n",
    " 'Electrical',\n",
    " 'Functional',\n",
    " 'GarageQual',\n",
    " 'GarageCond',\n",
    " 'PavedDrive',\n",
    " 'SaleType',\n",
    " 'SaleCondition']"
   ]
  },
  {
   "cell_type": "code",
   "execution_count": 3,
   "metadata": {},
   "outputs": [
    {
     "data": {
      "text/plain": [
       "(2896, 36)"
      ]
     },
     "execution_count": 3,
     "metadata": {},
     "output_type": "execute_result"
    }
   ],
   "source": [
    "df_FE_num_mean.shape"
   ]
  },
  {
   "cell_type": "code",
   "execution_count": 4,
   "metadata": {},
   "outputs": [
    {
     "data": {
      "text/plain": [
       "(2896, 43)"
      ]
     },
     "execution_count": 4,
     "metadata": {},
     "output_type": "execute_result"
    }
   ],
   "source": [
    "df_FE_cate.shape"
   ]
  },
  {
   "cell_type": "code",
   "execution_count": 5,
   "metadata": {},
   "outputs": [
    {
     "data": {
      "text/plain": [
       "(2896, 80)"
      ]
     },
     "execution_count": 5,
     "metadata": {},
     "output_type": "execute_result"
    }
   ],
   "source": [
    "df.shape"
   ]
  },
  {
   "cell_type": "code",
   "execution_count": 6,
   "metadata": {},
   "outputs": [],
   "source": [
    "df_FE_num_mean.index = df_FE_cate.index"
   ]
  },
  {
   "cell_type": "code",
   "execution_count": 7,
   "metadata": {},
   "outputs": [],
   "source": [
    "temp = pd.merge(df_FE_num_mean,df_FE_cate, on='Id')"
   ]
  },
  {
   "cell_type": "code",
   "execution_count": 8,
   "metadata": {},
   "outputs": [
    {
     "data": {
      "text/plain": [
       "(2896, 79)"
      ]
     },
     "execution_count": 8,
     "metadata": {},
     "output_type": "execute_result"
    }
   ],
   "source": [
    "temp.shape"
   ]
  },
  {
   "cell_type": "markdown",
   "metadata": {},
   "source": [
    "- numerical feature들을 category feature로 바꾸기\n",
    "- numerical feature들과 category feature 같이 비교"
   ]
  },
  {
   "cell_type": "markdown",
   "metadata": {},
   "source": [
    "일단 category column 부터 먼저 지운다"
   ]
  },
  {
   "cell_type": "code",
   "execution_count": 9,
   "metadata": {},
   "outputs": [],
   "source": [
    "to_del = ['Alley', 'PoolQC', 'Fence', 'MiscFeature', 'Street', 'LandContour', 'Utilities', 'LandSlope', 'Condition1', 'Condition2', 'BldgType', 'RoofMatl', 'ExterCond', 'BsmtCond', 'BsmtFinType2', 'Heating', 'Electrical', 'Functional', 'GarageQual', 'GarageCond', 'PavedDrive', 'SaleType', 'SaleCondition']"
   ]
  },
  {
   "cell_type": "code",
   "execution_count": 10,
   "metadata": {},
   "outputs": [],
   "source": [
    "col = temp.columns.tolist()\n",
    "for i in to_del:\n",
    "    col.remove(i)"
   ]
  },
  {
   "cell_type": "code",
   "execution_count": 11,
   "metadata": {},
   "outputs": [
    {
     "data": {
      "text/plain": [
       "['MSSubClass',\n",
       " 'LotFrontage',\n",
       " 'LotArea',\n",
       " 'OverallQual',\n",
       " 'OverallCond',\n",
       " 'YearBuilt',\n",
       " 'YearRemodAdd',\n",
       " 'MasVnrArea',\n",
       " 'BsmtFinSF1',\n",
       " 'BsmtFinSF2',\n",
       " 'BsmtUnfSF',\n",
       " 'TotalBsmtSF',\n",
       " '1stFlrSF',\n",
       " '2ndFlrSF',\n",
       " 'LowQualFinSF',\n",
       " 'GrLivArea',\n",
       " 'BsmtFullBath',\n",
       " 'BsmtHalfBath',\n",
       " 'FullBath',\n",
       " 'HalfBath',\n",
       " 'BedroomAbvGr',\n",
       " 'KitchenAbvGr',\n",
       " 'TotRmsAbvGrd',\n",
       " 'Fireplaces',\n",
       " 'GarageYrBlt',\n",
       " 'GarageCars',\n",
       " 'GarageArea',\n",
       " 'WoodDeckSF',\n",
       " 'OpenPorchSF',\n",
       " 'EnclosedPorch',\n",
       " '3SsnPorch',\n",
       " 'ScreenPorch',\n",
       " 'PoolArea',\n",
       " 'MiscVal',\n",
       " 'MoSold',\n",
       " 'YrSold',\n",
       " 'MSZoning',\n",
       " 'LotShape',\n",
       " 'LotConfig',\n",
       " 'Neighborhood',\n",
       " 'HouseStyle',\n",
       " 'RoofStyle',\n",
       " 'Exterior1st',\n",
       " 'Exterior2nd',\n",
       " 'MasVnrType',\n",
       " 'ExterQual',\n",
       " 'Foundation',\n",
       " 'BsmtQual',\n",
       " 'BsmtExposure',\n",
       " 'BsmtFinType1',\n",
       " 'HeatingQC',\n",
       " 'CentralAir',\n",
       " 'KitchenQual',\n",
       " 'FireplaceQu',\n",
       " 'GarageType',\n",
       " 'GarageFinish']"
      ]
     },
     "execution_count": 11,
     "metadata": {},
     "output_type": "execute_result"
    }
   ],
   "source": [
    "col"
   ]
  },
  {
   "cell_type": "code",
   "execution_count": 12,
   "metadata": {},
   "outputs": [],
   "source": [
    "Lot = [x for x in col if \"Lot\" in x]\n",
    "Bsmt = [x for x in col if \"Bsmt\" in x]\n",
    "Garage = [x for x in col if \"Garage\" in x]\n",
    "Porch = [x for x in col if \"Porch\" in x]\n",
    "AbvGr = [x for x in col if \"AbvGr\" in x]"
   ]
  },
  {
   "cell_type": "markdown",
   "metadata": {},
   "source": [
    "Bsmt"
   ]
  },
  {
   "cell_type": "code",
   "execution_count": 13,
   "metadata": {},
   "outputs": [
    {
     "data": {
      "text/plain": [
       "['BsmtFinSF1',\n",
       " 'BsmtFinSF2',\n",
       " 'BsmtUnfSF',\n",
       " 'TotalBsmtSF',\n",
       " 'BsmtFullBath',\n",
       " 'BsmtHalfBath',\n",
       " 'BsmtQual',\n",
       " 'BsmtExposure',\n",
       " 'BsmtFinType1']"
      ]
     },
     "execution_count": 13,
     "metadata": {},
     "output_type": "execute_result"
    }
   ],
   "source": [
    "Bsmt\n",
    "# TotalBsmtSF = BsmtFinSF1 + BsmtFinSF2 +BsmtUnfSF\n",
    "# TotalBsmtSF 제외하고 나머지 3개 지우면 될듯\n",
    "# BsmtFullBath, BsmtHalfBath : 둘 다 0 or 1로 바꾼다"
   ]
  },
  {
   "cell_type": "code",
   "execution_count": 14,
   "metadata": {},
   "outputs": [],
   "source": [
    "to_del = to_del + ['BsmtFinSF1','BsmtFinSF2', 'BsmtUnfSF']"
   ]
  },
  {
   "cell_type": "code",
   "execution_count": 15,
   "metadata": {},
   "outputs": [
    {
     "name": "stdout",
     "output_type": "stream",
     "text": [
      "[1 0]\n",
      "[0 1]\n"
     ]
    }
   ],
   "source": [
    "temp['BsmtFullBath'] = np.where(temp['BsmtFullBath'] != 0 , 1 , 0 ) \n",
    "temp['BsmtHalfBath'] = np.where(temp['BsmtHalfBath'] != 0 , 1 , 0 )\n",
    "print(temp['BsmtFullBath'].unique())\n",
    "print(temp['BsmtHalfBath'].unique())"
   ]
  },
  {
   "cell_type": "markdown",
   "metadata": {},
   "source": [
    "Porch"
   ]
  },
  {
   "cell_type": "code",
   "execution_count": 16,
   "metadata": {},
   "outputs": [
    {
     "data": {
      "text/plain": [
       "['OpenPorchSF', 'EnclosedPorch', '3SsnPorch', 'ScreenPorch']"
      ]
     },
     "execution_count": 16,
     "metadata": {},
     "output_type": "execute_result"
    }
   ],
   "source": [
    "Porch\n",
    "# porch를 모두 더하여 Porchsum을 만들어서 사용한다"
   ]
  },
  {
   "cell_type": "code",
   "execution_count": 17,
   "metadata": {},
   "outputs": [],
   "source": [
    "porchSum = np.zeros(len(temp))\n",
    "for i in Porch:\n",
    "    porchSum += temp[i]"
   ]
  },
  {
   "cell_type": "code",
   "execution_count": 18,
   "metadata": {},
   "outputs": [
    {
     "data": {
      "text/plain": [
       "<matplotlib.axes._subplots.AxesSubplot at 0x1cd50fdc828>"
      ]
     },
     "execution_count": 18,
     "metadata": {},
     "output_type": "execute_result"
    },
    {
     "data": {
      "image/png": "[encoded data removed]",
      "text/plain": [
       "<Figure size 432x288 with 1 Axes>"
      ]
     },
     "metadata": {
      "needs_background": "light"
     },
     "output_type": "display_data"
    }
   ],
   "source": [
    "sns.boxplot(porchSum)"
   ]
  },
  {
   "cell_type": "code",
   "execution_count": 19,
   "metadata": {},
   "outputs": [],
   "source": [
    "temp['Porchsum'] = temp['OpenPorchSF'] + temp['EnclosedPorch'] + temp['3SsnPorch'] + temp['ScreenPorch']\n",
    "to_del = to_del + Porch"
   ]
  },
  {
   "cell_type": "markdown",
   "metadata": {},
   "source": [
    "AbvGr"
   ]
  },
  {
   "cell_type": "code",
   "execution_count": 20,
   "metadata": {},
   "outputs": [
    {
     "data": {
      "text/plain": [
       "['BedroomAbvGr', 'KitchenAbvGr', 'TotRmsAbvGrd']"
      ]
     },
     "execution_count": 20,
     "metadata": {},
     "output_type": "execute_result"
    }
   ],
   "source": [
    "AbvGr\n",
    "# 침실수 나머지방 주방\n",
    "# KitchenAbvGr : 95% 1 -> 지우기\n",
    "# BedroomAbvGr :  5 이상은 극소수\n",
    "# TotRmsAbvGrd :  12까지 있는데 price와 선형성이 있을지는 의문 -> discrete화 하는게 좋을 것 같다\n",
    "#              : (2,3,4),5,6,7,8,9,(10,11,12,13,14,15)"
   ]
  },
  {
   "cell_type": "code",
   "execution_count": 21,
   "metadata": {},
   "outputs": [
    {
     "data": {
      "text/plain": [
       "<matplotlib.axes._subplots.AxesSubplot at 0x1cd512df160>"
      ]
     },
     "execution_count": 21,
     "metadata": {},
     "output_type": "execute_result"
    },
    {
     "data": {
      "image/png": "[encoded data removed]",
      "text/plain": [
       "<Figure size 432x288 with 1 Axes>"
      ]
     },
     "metadata": {
      "needs_background": "light"
     },
     "output_type": "display_data"
    }
   ],
   "source": [
    "sns.boxplot(data=df, x='TotRmsAbvGrd', y='SalePrice')"
   ]
  },
  {
   "cell_type": "code",
   "execution_count": 22,
   "metadata": {},
   "outputs": [],
   "source": [
    "temp['BedroomAbvGr'] = np.where(temp['BedroomAbvGr'] > 4, temp['BedroomAbvGr'], 5 )\n",
    "temp['TotRmsAbvGrd'] = np.where(temp['TotRmsAbvGrd'] < 5, 4 , temp['TotRmsAbvGrd'] )\n",
    "temp['TotRmsAbvGrd'] = np.where(temp['TotRmsAbvGrd'] > 9, 10 , temp['TotRmsAbvGrd'] )\n",
    "to_del = to_del + ['KitchenAbvGr']"
   ]
  },
  {
   "cell_type": "markdown",
   "metadata": {},
   "source": [
    "Garage"
   ]
  },
  {
   "cell_type": "code",
   "execution_count": 23,
   "metadata": {},
   "outputs": [
    {
     "data": {
      "text/plain": [
       "['GarageYrBlt', 'GarageCars', 'GarageArea', 'GarageType', 'GarageFinish']"
      ]
     },
     "execution_count": 23,
     "metadata": {},
     "output_type": "execute_result"
    }
   ],
   "source": [
    "Garage\n",
    "# 'GarageCars', 'GarageArea' :  GarageArea 이용"
   ]
  },
  {
   "cell_type": "code",
   "execution_count": 24,
   "metadata": {},
   "outputs": [],
   "source": [
    "to_del = to_del + ['GarageCars']"
   ]
  },
  {
   "cell_type": "code",
   "execution_count": 25,
   "metadata": {},
   "outputs": [],
   "source": [
    "# '1stFlrSF' : 1층 면적인듯\n",
    "# '2ndFlrSF' : 0이 60%인데 아마 2층집이 아닌 경우 해당, 이를 통해 2층집인지 아닌지 feature 추가\n",
    "# 'GrLivArea' = '1stFlrSF' + '2ndFlrSF' + 'LowQualFinSF\n",
    "temp['2ndFlrSF'] = np.where(temp['2ndFlrSF'] == 1, 1, 0)\n",
    "to_del = to_del + ['1stFlrSF', '2ndFlrSF', 'LowQualFinSF']"
   ]
  },
  {
   "cell_type": "code",
   "execution_count": 26,
   "metadata": {},
   "outputs": [],
   "source": [
    "# Fireplaces :  test에만 4 존재 -> 3\n",
    "temp['Fireplaces'] = np.where(temp['Fireplaces'] == 4 , 3, temp['Fireplaces'])"
   ]
  },
  {
   "cell_type": "markdown",
   "metadata": {},
   "source": [
    "year"
   ]
  },
  {
   "cell_type": "code",
   "execution_count": 27,
   "metadata": {},
   "outputs": [],
   "source": [
    "# 'YearBuilt'\n",
    "# 'YearRemodAdd'\n",
    "# 'GarageYrBlt'\n",
    "# min 값을 빼서 scale 차이를 줄여주자\n",
    "temp['YearBuilt'] = temp['YearBuilt'] - temp['YearBuilt'].min()\n",
    "temp['YearRemodAdd'] = temp['YearRemodAdd'] - temp['YearRemodAdd'].min()\n",
    "temp['GarageYrBlt'] = temp['GarageYrBlt'] - temp['GarageYrBlt'].min()"
   ]
  },
  {
   "cell_type": "code",
   "execution_count": 28,
   "metadata": {},
   "outputs": [],
   "source": [
    "#'PoolArea','MiscVal'\n",
    "to_del = to_del + ['PoolArea','MiscVal']"
   ]
  },
  {
   "cell_type": "code",
   "execution_count": 29,
   "metadata": {},
   "outputs": [],
   "source": [
    "# MoSold, YrSold\n",
    "to_del = to_del + ['YrSold', 'MoSold']"
   ]
  },
  {
   "cell_type": "code",
   "execution_count": 30,
   "metadata": {},
   "outputs": [],
   "source": [
    "temp_ = temp.drop(to_del, axis='columns')"
   ]
  },
  {
   "cell_type": "code",
   "execution_count": 31,
   "metadata": {},
   "outputs": [
    {
     "data": {
      "text/plain": [
       "(2896, 41)"
      ]
     },
     "execution_count": 31,
     "metadata": {},
     "output_type": "execute_result"
    }
   ],
   "source": [
    "temp_.shape"
   ]
  },
  {
   "cell_type": "code",
   "execution_count": 32,
   "metadata": {},
   "outputs": [
    {
     "data": {
      "text/plain": [
       "Index(['MSSubClass', 'LotFrontage', 'LotArea', 'OverallQual', 'OverallCond',\n",
       "       'YearBuilt', 'YearRemodAdd', 'MasVnrArea', 'TotalBsmtSF', 'GrLivArea',\n",
       "       'BsmtFullBath', 'BsmtHalfBath', 'FullBath', 'HalfBath', 'BedroomAbvGr',\n",
       "       'TotRmsAbvGrd', 'Fireplaces', 'GarageYrBlt', 'GarageArea', 'WoodDeckSF',\n",
       "       'MSZoning', 'LotShape', 'LotConfig', 'Neighborhood', 'HouseStyle',\n",
       "       'RoofStyle', 'Exterior1st', 'Exterior2nd', 'MasVnrType', 'ExterQual',\n",
       "       'Foundation', 'BsmtQual', 'BsmtExposure', 'BsmtFinType1', 'HeatingQC',\n",
       "       'CentralAir', 'KitchenQual', 'FireplaceQu', 'GarageType',\n",
       "       'GarageFinish', 'Porchsum'],\n",
       "      dtype='object')"
      ]
     },
     "execution_count": 32,
     "metadata": {},
     "output_type": "execute_result"
    }
   ],
   "source": [
    "temp_.columns"
   ]
  },
  {
   "cell_type": "code",
   "execution_count": 33,
   "metadata": {},
   "outputs": [],
   "source": [
    "temp_.to_pickle('df_FE4.pkl')"
   ]
  },
  {
   "cell_type": "code",
   "execution_count": null,
   "metadata": {},
   "outputs": [],
   "source": []
  }
 ],
 "metadata": {
  "kernelspec": {
   "display_name": "Python 3",
   "language": "python",
   "name": "python3"
  },
  "language_info": {
   "codemirror_mode": {
    "name": "ipython",
    "version": 3
   },
   "file_extension": ".py",
   "mimetype": "text/x-python",
   "name": "python",
   "nbconvert_exporter": "python",
   "pygments_lexer": "ipython3",
   "version": "3.7.2"
  }
 },
 "nbformat": 4,
 "nbformat_minor": 4
}
