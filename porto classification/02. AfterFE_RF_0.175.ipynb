{
 "cells": [
  {
   "cell_type": "code",
   "execution_count": 1,
   "metadata": {
    "ExecuteTime": {
     "end_time": "2020-03-16T12:39:48.663983Z",
     "start_time": "2020-03-16T12:39:46.051923Z"
    }
   },
   "outputs": [],
   "source": [
    "import pandas as pd\n",
    "import numpy as np\n",
    "import matplotlib.pyplot as plt\n",
    "import seaborn as sns"
   ]
  },
  {
   "cell_type": "code",
   "execution_count": 3,
   "metadata": {
    "ExecuteTime": {
     "end_time": "2020-03-16T12:39:50.698679Z",
     "start_time": "2020-03-16T12:39:50.693690Z"
    }
   },
   "outputs": [],
   "source": [
    "pd.set_option('display.max_columns', 999)"
   ]
  },
  {
   "cell_type": "code",
   "execution_count": 4,
   "metadata": {
    "ExecuteTime": {
     "end_time": "2020-03-16T12:39:50.717185Z",
     "start_time": "2020-03-16T12:39:50.701651Z"
    }
   },
   "outputs": [],
   "source": [
    "meta = pd.read_csv('data/meta.csv')"
   ]
  },
  {
   "cell_type": "code",
   "execution_count": 19,
   "metadata": {
    "ExecuteTime": {
     "end_time": "2020-03-15T05:39:14.503388Z",
     "start_time": "2020-03-15T05:39:14.489428Z"
    }
   },
   "outputs": [
    {
     "data": {
      "text/html": [
       "<div>\n",
       "<style scoped>\n",
       "    .dataframe tbody tr th:only-of-type {\n",
       "        vertical-align: middle;\n",
       "    }\n",
       "\n",
       "    .dataframe tbody tr th {\n",
       "        vertical-align: top;\n",
       "    }\n",
       "\n",
       "    .dataframe thead th {\n",
       "        text-align: right;\n",
       "    }\n",
       "</style>\n",
       "<table border=\"1\" class=\"dataframe\">\n",
       "  <thead>\n",
       "    <tr style=\"text-align: right;\">\n",
       "      <th></th>\n",
       "      <th>varname</th>\n",
       "      <th>role</th>\n",
       "      <th>level</th>\n",
       "      <th>keep</th>\n",
       "      <th>dtype</th>\n",
       "    </tr>\n",
       "  </thead>\n",
       "  <tbody>\n",
       "    <tr>\n",
       "      <th>0</th>\n",
       "      <td>id</td>\n",
       "      <td>id</td>\n",
       "      <td>nominal</td>\n",
       "      <td>False</td>\n",
       "      <td>int64</td>\n",
       "    </tr>\n",
       "    <tr>\n",
       "      <th>1</th>\n",
       "      <td>target</td>\n",
       "      <td>target</td>\n",
       "      <td>binary</td>\n",
       "      <td>True</td>\n",
       "      <td>int64</td>\n",
       "    </tr>\n",
       "    <tr>\n",
       "      <th>2</th>\n",
       "      <td>ps_ind_01</td>\n",
       "      <td>input</td>\n",
       "      <td>binary</td>\n",
       "      <td>True</td>\n",
       "      <td>int64</td>\n",
       "    </tr>\n",
       "    <tr>\n",
       "      <th>3</th>\n",
       "      <td>ps_ind_02_cat</td>\n",
       "      <td>input</td>\n",
       "      <td>nominal</td>\n",
       "      <td>True</td>\n",
       "      <td>int64</td>\n",
       "    </tr>\n",
       "    <tr>\n",
       "      <th>4</th>\n",
       "      <td>ps_ind_03</td>\n",
       "      <td>input</td>\n",
       "      <td>nominal</td>\n",
       "      <td>True</td>\n",
       "      <td>int64</td>\n",
       "    </tr>\n",
       "  </tbody>\n",
       "</table>\n",
       "</div>"
      ],
      "text/plain": [
       "         varname    role    level   keep  dtype\n",
       "0             id      id  nominal  False  int64\n",
       "1         target  target   binary   True  int64\n",
       "2      ps_ind_01   input   binary   True  int64\n",
       "3  ps_ind_02_cat   input  nominal   True  int64\n",
       "4      ps_ind_03   input  nominal   True  int64"
      ]
     },
     "execution_count": 19,
     "metadata": {},
     "output_type": "execute_result"
    }
   ],
   "source": [
    "meta.head()"
   ]
  },
  {
   "cell_type": "markdown",
   "metadata": {},
   "source": [
    "# To minimize memory\n",
    "- 만들어 놓은 meta df를 이용하여 pandas로 불러올때, dtype에 원하는 data type을 넣어준다.\n",
    "- 원하는 data type은 사전에 data를 확인하여 적절하게 선택한다."
   ]
  },
  {
   "cell_type": "code",
   "execution_count": 5,
   "metadata": {
    "ExecuteTime": {
     "end_time": "2020-03-16T12:39:52.584988Z",
     "start_time": "2020-03-16T12:39:52.573977Z"
    }
   },
   "outputs": [],
   "source": [
    "data_type = dict()\n",
    "for i in range(len(meta)):\n",
    "    if meta.iloc[i, 4] == 'int64': \n",
    "        data_type[meta['varname'][i]] = 'int8'\n",
    "    else:\n",
    "        data_type[meta['varname'][i]] = 'float16'"
   ]
  },
  {
   "cell_type": "code",
   "execution_count": 6,
   "metadata": {
    "ExecuteTime": {
     "end_time": "2020-03-16T12:39:55.929811Z",
     "start_time": "2020-03-16T12:39:55.924722Z"
    }
   },
   "outputs": [],
   "source": [
    "data_type_test = data_type.copy()\n",
    "del data_type_test['target']"
   ]
  },
  {
   "cell_type": "code",
   "execution_count": 7,
   "metadata": {
    "ExecuteTime": {
     "end_time": "2020-03-16T12:40:06.463422Z",
     "start_time": "2020-03-16T12:39:56.465015Z"
    }
   },
   "outputs": [],
   "source": [
    "train = pd.read_csv('data/train.csv', dtype=data_type )\n",
    "test = pd.read_csv('data/test.csv', dtype=data_type_test)"
   ]
  },
  {
   "cell_type": "markdown",
   "metadata": {},
   "source": [
    "메모리 사용량이 훨씬 줄었다."
   ]
  },
  {
   "cell_type": "markdown",
   "metadata": {},
   "source": [
    "# FE"
   ]
  },
  {
   "cell_type": "markdown",
   "metadata": {},
   "source": [
    "- 일단 train 과 test가 크게 다르지 않다고 생각하고 합쳐서 시작하자."
   ]
  },
  {
   "cell_type": "code",
   "execution_count": 8,
   "metadata": {
    "ExecuteTime": {
     "end_time": "2020-03-16T12:40:06.936842Z",
     "start_time": "2020-03-16T12:40:06.467028Z"
    }
   },
   "outputs": [
    {
     "name": "stdout",
     "output_type": "stream",
     "text": [
      "(1488028, 59)\n"
     ]
    }
   ],
   "source": [
    "df = pd.concat([train, test])\n",
    "print(df.shape)"
   ]
  },
  {
   "cell_type": "markdown",
   "metadata": {},
   "source": [
    "참고커널\n",
    "- https://www.kaggle.com/headsortails/steering-wheel-of-fortune-porto-seguro-eda"
   ]
  },
  {
   "cell_type": "code",
   "execution_count": 10,
   "metadata": {
    "ExecuteTime": {
     "end_time": "2020-03-16T11:31:14.346826Z",
     "start_time": "2020-03-16T11:31:14.319688Z"
    }
   },
   "outputs": [
    {
     "data": {
      "text/html": [
       "<div>\n",
       "<style scoped>\n",
       "    .dataframe tbody tr th:only-of-type {\n",
       "        vertical-align: middle;\n",
       "    }\n",
       "\n",
       "    .dataframe tbody tr th {\n",
       "        vertical-align: top;\n",
       "    }\n",
       "\n",
       "    .dataframe thead th {\n",
       "        text-align: right;\n",
       "    }\n",
       "</style>\n",
       "<table border=\"1\" class=\"dataframe\">\n",
       "  <thead>\n",
       "    <tr style=\"text-align: right;\">\n",
       "      <th></th>\n",
       "      <th>varname</th>\n",
       "      <th>role</th>\n",
       "      <th>level</th>\n",
       "      <th>keep</th>\n",
       "      <th>dtype</th>\n",
       "    </tr>\n",
       "  </thead>\n",
       "  <tbody>\n",
       "    <tr>\n",
       "      <th>0</th>\n",
       "      <td>id</td>\n",
       "      <td>id</td>\n",
       "      <td>nominal</td>\n",
       "      <td>False</td>\n",
       "      <td>int64</td>\n",
       "    </tr>\n",
       "    <tr>\n",
       "      <th>1</th>\n",
       "      <td>target</td>\n",
       "      <td>target</td>\n",
       "      <td>binary</td>\n",
       "      <td>True</td>\n",
       "      <td>int64</td>\n",
       "    </tr>\n",
       "    <tr>\n",
       "      <th>2</th>\n",
       "      <td>ps_ind_01</td>\n",
       "      <td>input</td>\n",
       "      <td>binary</td>\n",
       "      <td>True</td>\n",
       "      <td>int64</td>\n",
       "    </tr>\n",
       "    <tr>\n",
       "      <th>3</th>\n",
       "      <td>ps_ind_02_cat</td>\n",
       "      <td>input</td>\n",
       "      <td>nominal</td>\n",
       "      <td>True</td>\n",
       "      <td>int64</td>\n",
       "    </tr>\n",
       "    <tr>\n",
       "      <th>4</th>\n",
       "      <td>ps_ind_03</td>\n",
       "      <td>input</td>\n",
       "      <td>nominal</td>\n",
       "      <td>True</td>\n",
       "      <td>int64</td>\n",
       "    </tr>\n",
       "  </tbody>\n",
       "</table>\n",
       "</div>"
      ],
      "text/plain": [
       "         varname    role    level   keep  dtype\n",
       "0             id      id  nominal  False  int64\n",
       "1         target  target   binary   True  int64\n",
       "2      ps_ind_01   input   binary   True  int64\n",
       "3  ps_ind_02_cat   input  nominal   True  int64\n",
       "4      ps_ind_03   input  nominal   True  int64"
      ]
     },
     "execution_count": 10,
     "metadata": {},
     "output_type": "execute_result"
    }
   ],
   "source": [
    "meta.head()"
   ]
  },
  {
   "cell_type": "markdown",
   "metadata": {},
   "source": [
    "## FE : feature delete"
   ]
  },
  {
   "cell_type": "code",
   "execution_count": 23,
   "metadata": {
    "ExecuteTime": {
     "end_time": "2020-03-16T11:51:10.557999Z",
     "start_time": "2020-03-16T11:51:10.549933Z"
    }
   },
   "outputs": [
    {
     "data": {
      "text/plain": [
       "['ps_ind_06_bin',\n",
       " 'ps_ind_07_bin',\n",
       " 'ps_ind_08_bin',\n",
       " 'ps_ind_09_bin',\n",
       " 'ps_ind_10_bin',\n",
       " 'ps_ind_11_bin',\n",
       " 'ps_ind_12_bin',\n",
       " 'ps_ind_13_bin',\n",
       " 'ps_ind_16_bin',\n",
       " 'ps_ind_17_bin',\n",
       " 'ps_ind_18_bin',\n",
       " 'ps_calc_15_bin',\n",
       " 'ps_calc_16_bin',\n",
       " 'ps_calc_17_bin',\n",
       " 'ps_calc_18_bin',\n",
       " 'ps_calc_19_bin',\n",
       " 'ps_calc_20_bin']"
      ]
     },
     "execution_count": 23,
     "metadata": {},
     "output_type": "execute_result"
    }
   ],
   "source": [
    "[i for i in df.columns if 'bin' in i]"
   ]
  },
  {
   "cell_type": "markdown",
   "metadata": {},
   "source": [
    "- binary\n",
    "    - too unbalance\n",
    "        - 'ps_ind_10_bin', 'ps_ind_11_bin', 'ps_ind_12_bin', 'ps_ind_13_bin'\n",
    "    - _ind_ is good for target"
   ]
  },
  {
   "cell_type": "code",
   "execution_count": 24,
   "metadata": {
    "ExecuteTime": {
     "end_time": "2020-03-16T11:51:33.439484Z",
     "start_time": "2020-03-16T11:51:33.431331Z"
    }
   },
   "outputs": [
    {
     "data": {
      "text/plain": [
       "['ps_ind_02_cat',\n",
       " 'ps_ind_04_cat',\n",
       " 'ps_ind_05_cat',\n",
       " 'ps_car_01_cat',\n",
       " 'ps_car_02_cat',\n",
       " 'ps_car_03_cat',\n",
       " 'ps_car_04_cat',\n",
       " 'ps_car_05_cat',\n",
       " 'ps_car_06_cat',\n",
       " 'ps_car_07_cat',\n",
       " 'ps_car_08_cat',\n",
       " 'ps_car_09_cat',\n",
       " 'ps_car_10_cat',\n",
       " 'ps_car_11_cat']"
      ]
     },
     "execution_count": 24,
     "metadata": {},
     "output_type": "execute_result"
    }
   ],
   "source": [
    "[i for i in df.columns if 'cat' in i]"
   ]
  },
  {
   "cell_type": "markdown",
   "metadata": {},
   "source": [
    "- category\n",
    "    - high cardinality\n",
    "        - 'ps_car_01_cat', 'ps_car_06_cat', 'ps_car_11_cat'\n",
    "    - _ind_ is good for target"
   ]
  },
  {
   "cell_type": "code",
   "execution_count": 25,
   "metadata": {
    "ExecuteTime": {
     "end_time": "2020-03-16T11:52:09.935741Z",
     "start_time": "2020-03-16T11:52:09.926211Z"
    }
   },
   "outputs": [
    {
     "data": {
      "text/plain": [
       "['id',\n",
       " 'target',\n",
       " 'ps_ind_01',\n",
       " 'ps_ind_03',\n",
       " 'ps_ind_14',\n",
       " 'ps_ind_15',\n",
       " 'ps_reg_01',\n",
       " 'ps_reg_02',\n",
       " 'ps_reg_03',\n",
       " 'ps_car_11',\n",
       " 'ps_car_12',\n",
       " 'ps_car_13',\n",
       " 'ps_car_14',\n",
       " 'ps_car_15',\n",
       " 'ps_calc_01',\n",
       " 'ps_calc_02',\n",
       " 'ps_calc_03',\n",
       " 'ps_calc_04',\n",
       " 'ps_calc_05',\n",
       " 'ps_calc_06',\n",
       " 'ps_calc_07',\n",
       " 'ps_calc_08',\n",
       " 'ps_calc_09',\n",
       " 'ps_calc_10',\n",
       " 'ps_calc_11',\n",
       " 'ps_calc_12',\n",
       " 'ps_calc_13',\n",
       " 'ps_calc_14']"
      ]
     },
     "execution_count": 25,
     "metadata": {},
     "output_type": "execute_result"
    }
   ],
   "source": [
    "[i for i in df.columns if ('bin' not in i) and ('cat' not in i)]"
   ]
  },
  {
   "cell_type": "markdown",
   "metadata": {},
   "source": [
    "- rest\n",
    "    - in particular for ps_ind_14 and ps_car_11 where “0” and “3” are the dominating values, respectively.\n",
    "    - high cardinality\n",
    "        - 'ps_ind_03','ps_ind_14'\n",
    "    - uniform\n",
    "        - 'ps_calc_01','ps_calc_02','ps_calc_03'"
   ]
  },
  {
   "cell_type": "markdown",
   "metadata": {},
   "source": [
    "뒤에 generate하고 해당 column delete\n",
    "- 'ps_ind_10_bin', 'ps_ind_11_bin', 'ps_ind_12_bin', 'ps_ind_13_bin'\n",
    "- 'ps_calc_01','ps_calc_02','ps_calc_03'"
   ]
  },
  {
   "cell_type": "code",
   "execution_count": 9,
   "metadata": {
    "ExecuteTime": {
     "end_time": "2020-03-16T12:40:06.946732Z",
     "start_time": "2020-03-16T12:40:06.940916Z"
    }
   },
   "outputs": [],
   "source": [
    "del_col = ['ps_ind_10_bin', 'ps_ind_11_bin', 'ps_ind_12_bin', 'ps_ind_13_bin','ps_calc_01','ps_calc_02','ps_calc_03']"
   ]
  },
  {
   "cell_type": "markdown",
   "metadata": {},
   "source": [
    "## FE : feature generate"
   ]
  },
  {
   "cell_type": "code",
   "execution_count": 33,
   "metadata": {
    "ExecuteTime": {
     "end_time": "2020-03-16T12:56:45.013298Z",
     "start_time": "2020-03-16T12:56:45.007325Z"
    }
   },
   "outputs": [],
   "source": [
    "bin = [i for i in train.columns if 'bin' in i]"
   ]
  },
  {
   "cell_type": "markdown",
   "metadata": {},
   "source": [
    "- NA 인 값들을 feauture로 만든다.\n",
    "- bin feature들을 더한다.\n",
    "- category는 최빈값, numeric은 평균값으로 fillna"
   ]
  },
  {
   "cell_type": "markdown",
   "metadata": {},
   "source": [
    "NA 인 값들을 feauture로 만든다."
   ]
  },
  {
   "cell_type": "code",
   "execution_count": 13,
   "metadata": {
    "ExecuteTime": {
     "end_time": "2020-03-16T12:43:16.997128Z",
     "start_time": "2020-03-16T12:43:08.554991Z"
    }
   },
   "outputs": [],
   "source": [
    "na_col = (df[df == -1].sum() != 0)"
   ]
  },
  {
   "cell_type": "code",
   "execution_count": 28,
   "metadata": {
    "ExecuteTime": {
     "end_time": "2020-03-16T12:50:13.147069Z",
     "start_time": "2020-03-16T12:50:13.138250Z"
    }
   },
   "outputs": [
    {
     "name": "stdout",
     "output_type": "stream",
     "text": [
      "['ps_ind_02_cat', 'ps_ind_04_cat', 'ps_ind_05_cat', 'ps_reg_03', 'ps_car_01_cat', 'ps_car_02_cat', 'ps_car_03_cat', 'ps_car_05_cat', 'ps_car_07_cat', 'ps_car_09_cat', 'ps_car_11', 'ps_car_12', 'ps_car_14']\n"
     ]
    }
   ],
   "source": [
    "na = []\n",
    "i = 0\n",
    "for col in na_col.to_numpy():\n",
    "    if col : na.append(na_col.index[i])\n",
    "    i += 1\n",
    "na.remove('id')\n",
    "print(na)"
   ]
  },
  {
   "cell_type": "code",
   "execution_count": 32,
   "metadata": {
    "ExecuteTime": {
     "end_time": "2020-03-16T12:55:02.162611Z",
     "start_time": "2020-03-16T12:55:02.156232Z"
    }
   },
   "outputs": [
    {
     "name": "stdout",
     "output_type": "stream",
     "text": [
      "13\n"
     ]
    }
   ],
   "source": [
    "print(len(na))"
   ]
  },
  {
   "cell_type": "code",
   "execution_count": 30,
   "metadata": {
    "ExecuteTime": {
     "end_time": "2020-03-16T12:54:42.821095Z",
     "start_time": "2020-03-16T12:54:42.402574Z"
    }
   },
   "outputs": [
    {
     "name": "stdout",
     "output_type": "stream",
     "text": [
      "before:  (1488028, 59)\n",
      "after:  (1488028, 72)\n"
     ]
    }
   ],
   "source": [
    "print('before: ',df.shape)\n",
    "for col in na:\n",
    "    df['na' + col] = -1\n",
    "    df['na' + col] = np.where(df[col]==-1,1,0)\n",
    "print('after: ',df.shape)"
   ]
  },
  {
   "cell_type": "markdown",
   "metadata": {},
   "source": [
    "- bin feature들을 더한다."
   ]
  },
  {
   "cell_type": "code",
   "execution_count": 45,
   "metadata": {
    "ExecuteTime": {
     "end_time": "2020-03-16T13:14:35.684245Z",
     "start_time": "2020-03-16T13:14:35.136297Z"
    }
   },
   "outputs": [
    {
     "data": {
      "text/plain": [
       "0    4\n",
       "1    4\n",
       "2    4\n",
       "3    1\n",
       "4    3\n",
       "Name: sum_bin, dtype: int64"
      ]
     },
     "execution_count": 45,
     "metadata": {},
     "output_type": "execute_result"
    }
   ],
   "source": [
    "bin_col = [i for i in df.columns if 'bin' in i]\n",
    "df['sum_bin'] = -1\n",
    "for i in bin_col:\n",
    "    df['sum_bin'] += df[i]\n",
    "    \n",
    "df['sum_bin'][:5]"
   ]
  },
  {
   "cell_type": "markdown",
   "metadata": {},
   "source": [
    "category는 최빈값, numeric은 평균값으로 fillna"
   ]
  },
  {
   "cell_type": "code",
   "execution_count": 76,
   "metadata": {
    "ExecuteTime": {
     "end_time": "2020-03-16T13:32:27.787584Z",
     "start_time": "2020-03-16T13:32:21.073928Z"
    }
   },
   "outputs": [
    {
     "name": "stderr",
     "output_type": "stream",
     "text": [
      "100%|██████████████████████████████████████████████████████████████████████████████████| 13/13 [00:06<00:00,  1.95it/s]\n"
     ]
    }
   ],
   "source": [
    "from statistics import mode\n",
    "from tqdm import tqdm\n",
    "\n",
    "for i in tqdm(na):\n",
    "    most_freq = mode(df[i])\n",
    "    df[i] = np.where(df[i]==-1, most_freq, df[i])"
   ]
  },
  {
   "cell_type": "code",
   "execution_count": 77,
   "metadata": {
    "ExecuteTime": {
     "end_time": "2020-03-16T13:33:45.234730Z",
     "start_time": "2020-03-16T13:33:45.226602Z"
    }
   },
   "outputs": [
    {
     "data": {
      "text/plain": [
       "['ps_ind_10_bin',\n",
       " 'ps_ind_11_bin',\n",
       " 'ps_ind_12_bin',\n",
       " 'ps_ind_13_bin',\n",
       " 'ps_calc_01',\n",
       " 'ps_calc_02',\n",
       " 'ps_calc_03']"
      ]
     },
     "execution_count": 77,
     "metadata": {},
     "output_type": "execute_result"
    }
   ],
   "source": [
    "del_col"
   ]
  },
  {
   "cell_type": "code",
   "execution_count": 79,
   "metadata": {
    "ExecuteTime": {
     "end_time": "2020-03-16T13:34:34.644833Z",
     "start_time": "2020-03-16T13:34:34.188021Z"
    }
   },
   "outputs": [],
   "source": [
    "df = df.drop(del_col, axis=1)"
   ]
  },
  {
   "cell_type": "code",
   "execution_count": 80,
   "metadata": {
    "ExecuteTime": {
     "end_time": "2020-03-16T13:34:43.422785Z",
     "start_time": "2020-03-16T13:34:43.415758Z"
    }
   },
   "outputs": [
    {
     "name": "stdout",
     "output_type": "stream",
     "text": [
      "(1488028, 66)\n"
     ]
    }
   ],
   "source": [
    "print(df.shape)"
   ]
  },
  {
   "cell_type": "markdown",
   "metadata": {},
   "source": [
    "## FE : category encoding"
   ]
  },
  {
   "cell_type": "code",
   "execution_count": 81,
   "metadata": {
    "ExecuteTime": {
     "end_time": "2020-03-16T13:35:21.154911Z",
     "start_time": "2020-03-16T13:35:21.146359Z"
    }
   },
   "outputs": [
    {
     "data": {
      "text/plain": [
       "Index(['id', 'target', 'ps_ind_01', 'ps_ind_02_cat', 'ps_ind_03',\n",
       "       'ps_ind_04_cat', 'ps_ind_05_cat', 'ps_ind_06_bin', 'ps_ind_07_bin',\n",
       "       'ps_ind_08_bin', 'ps_ind_09_bin', 'ps_ind_14', 'ps_ind_15',\n",
       "       'ps_ind_16_bin', 'ps_ind_17_bin', 'ps_ind_18_bin', 'ps_reg_01',\n",
       "       'ps_reg_02', 'ps_reg_03', 'ps_car_01_cat', 'ps_car_02_cat',\n",
       "       'ps_car_03_cat', 'ps_car_04_cat', 'ps_car_05_cat', 'ps_car_06_cat',\n",
       "       'ps_car_07_cat', 'ps_car_08_cat', 'ps_car_09_cat', 'ps_car_10_cat',\n",
       "       'ps_car_11_cat', 'ps_car_11', 'ps_car_12', 'ps_car_13', 'ps_car_14',\n",
       "       'ps_car_15', 'ps_calc_04', 'ps_calc_05', 'ps_calc_06', 'ps_calc_07',\n",
       "       'ps_calc_08', 'ps_calc_09', 'ps_calc_10', 'ps_calc_11', 'ps_calc_12',\n",
       "       'ps_calc_13', 'ps_calc_14', 'ps_calc_15_bin', 'ps_calc_16_bin',\n",
       "       'ps_calc_17_bin', 'ps_calc_18_bin', 'ps_calc_19_bin', 'ps_calc_20_bin',\n",
       "       'naps_ind_02_cat', 'naps_ind_04_cat', 'naps_ind_05_cat', 'naps_reg_03',\n",
       "       'naps_car_01_cat', 'naps_car_02_cat', 'naps_car_03_cat',\n",
       "       'naps_car_05_cat', 'naps_car_07_cat', 'naps_car_09_cat', 'naps_car_11',\n",
       "       'naps_car_12', 'naps_car_14', 'sum_bin'],\n",
       "      dtype='object')"
      ]
     },
     "execution_count": 81,
     "metadata": {},
     "output_type": "execute_result"
    }
   ],
   "source": [
    "df.columns"
   ]
  },
  {
   "cell_type": "code",
   "execution_count": 93,
   "metadata": {
    "ExecuteTime": {
     "end_time": "2020-03-16T13:37:59.424857Z",
     "start_time": "2020-03-16T13:37:59.414880Z"
    }
   },
   "outputs": [
    {
     "data": {
      "text/plain": [
       "0                id\n",
       "3     ps_ind_02_cat\n",
       "4         ps_ind_03\n",
       "5     ps_ind_04_cat\n",
       "6     ps_ind_05_cat\n",
       "23    ps_car_01_cat\n",
       "24    ps_car_02_cat\n",
       "25    ps_car_03_cat\n",
       "26    ps_car_04_cat\n",
       "27    ps_car_05_cat\n",
       "28    ps_car_06_cat\n",
       "29    ps_car_07_cat\n",
       "30    ps_car_08_cat\n",
       "31    ps_car_09_cat\n",
       "32    ps_car_10_cat\n",
       "33    ps_car_11_cat\n",
       "34        ps_car_11\n",
       "Name: varname, dtype: object"
      ]
     },
     "execution_count": 93,
     "metadata": {},
     "output_type": "execute_result"
    }
   ],
   "source": [
    "meta.loc[meta['level']=='nominal', 'varname']"
   ]
  },
  {
   "cell_type": "code",
   "execution_count": 101,
   "metadata": {
    "ExecuteTime": {
     "end_time": "2020-03-16T13:53:23.447027Z",
     "start_time": "2020-03-16T13:53:23.440090Z"
    }
   },
   "outputs": [],
   "source": [
    "encoding_col = [i for i in df.columns if 'cat' in i]\n",
    "\n",
    "for i in [i for i in encoding_col if 'na' in i]:\n",
    "    encoding_col.remove(i)\n",
    "    \n",
    "encoding_col = encoding_col + ['ps_ind_03','ps_car_11']"
   ]
  },
  {
   "cell_type": "code",
   "execution_count": 103,
   "metadata": {
    "ExecuteTime": {
     "end_time": "2020-03-16T13:53:39.904787Z",
     "start_time": "2020-03-16T13:53:39.009979Z"
    }
   },
   "outputs": [],
   "source": [
    "import category_encoders as ce\n",
    "\n",
    "df_cat = df.copy()\n",
    "catboost_encoder = ce.cat_boost.CatBoostEncoder()\n",
    "catboost_encoder.fit(df_cat[encoding_col][:595212], train['target'])\n",
    "df_cat[encoding_col] = catboost_encoder.transform(df_cat[encoding_col])\n",
    "\n",
    "df_target = df.copy()\n",
    "target_encoder = ce.target_encoder.TargetEncoder()\n",
    "target_encoder.fit(df_target[encoding_col][:595212], train['target'])\n",
    "df_target[encoding_col] = target_encoder.transform(df_target[encoding_col])"
   ]
  },
  {
   "cell_type": "code",
   "execution_count": 104,
   "metadata": {
    "ExecuteTime": {
     "end_time": "2020-03-16T14:01:19.064170Z",
     "start_time": "2020-03-16T14:01:17.621199Z"
    }
   },
   "outputs": [
    {
     "data": {
      "text/plain": [
       "['data/df_target.pkl']"
      ]
     },
     "execution_count": 104,
     "metadata": {},
     "output_type": "execute_result"
    }
   ],
   "source": [
    "import joblib\n",
    "\n",
    "joblib.dump(df_cat, 'data/df_cat.pkl')\n",
    "joblib.dump(df_target, 'data/df_target.pkl')"
   ]
  },
  {
   "cell_type": "markdown",
   "metadata": {},
   "source": [
    "# modeling"
   ]
  },
  {
   "cell_type": "code",
   "execution_count": 105,
   "metadata": {
    "ExecuteTime": {
     "end_time": "2020-03-16T14:01:52.727232Z",
     "start_time": "2020-03-16T14:01:52.562487Z"
    }
   },
   "outputs": [],
   "source": [
    "from sklearn.ensemble import RandomForestClassifier\n",
    "from sklearn.model_selection import cross_val_score\n",
    "from sklearn.model_selection import StratifiedKFold"
   ]
  },
  {
   "cell_type": "code",
   "execution_count": 107,
   "metadata": {
    "ExecuteTime": {
     "end_time": "2020-03-16T14:03:02.381413Z",
     "start_time": "2020-03-16T14:03:02.361110Z"
    }
   },
   "outputs": [],
   "source": [
    "def gini(actual, pred, cmpcol = 0, sortcol = 1):\n",
    "    assert( len(actual) == len(pred) )\n",
    "    all = np.asarray(np.c_[ actual, pred, np.arange(len(actual)) ], dtype=np.float)\n",
    "    all = all[ np.lexsort((all[:,2], -1*all[:,1])) ]\n",
    "    totalLosses = all[:,0].sum()\n",
    "    giniSum = all[:,0].cumsum().sum() / totalLosses\n",
    "    \n",
    "    giniSum -= (len(actual) + 1) / 2.\n",
    "    return giniSum / len(actual)\n",
    " \n",
    "def gini_normalized(a, p):\n",
    "    return gini(a, p) / gini(a, a)\n",
    "\n",
    "#Remove redundant calls\n",
    "def ginic(actual, pred):\n",
    "    actual = np.asarray(actual) #In case, someone passes Series or list\n",
    "    n = len(actual)\n",
    "    a_s = actual[np.argsort(pred)]\n",
    "    a_c = a_s.cumsum()\n",
    "    giniSum = a_c.sum() / a_s.sum() - (n + 1) / 2.0\n",
    "    return giniSum / n\n",
    " \n",
    "def gini_normalizedc(a, p):\n",
    "    if p.ndim == 2:#Required for sklearn wrapper\n",
    "        p = p[:,1] #If proba array contains proba for both 0 and 1 classes, just pick class 1\n",
    "    return ginic(a, p) / ginic(a, a)\n",
    "\n",
    "#XGBoost\n",
    "from sklearn import metrics\n",
    "\n",
    "def gini_xgb(preds, dtrain):\n",
    "    labels = dtrain.get_label()\n",
    "    gini_score = gini_normalizedc(labels, preds)\n",
    "    return [('gini', gini_score)]\n",
    "\n",
    "#LightGBM\n",
    "def gini_lgb(actuals, preds):\n",
    "    return 'gini', gini_normalizedc(actuals, preds), True\n",
    "\n",
    "#SKlearn\n",
    "gini_sklearn = metrics.make_scorer(gini_normalizedc, True, True)"
   ]
  },
  {
   "cell_type": "code",
   "execution_count": 110,
   "metadata": {
    "ExecuteTime": {
     "end_time": "2020-03-16T14:35:19.571843Z",
     "start_time": "2020-03-16T14:35:19.507018Z"
    }
   },
   "outputs": [
    {
     "data": {
      "text/html": [
       "<div>\n",
       "<style scoped>\n",
       "    .dataframe tbody tr th:only-of-type {\n",
       "        vertical-align: middle;\n",
       "    }\n",
       "\n",
       "    .dataframe tbody tr th {\n",
       "        vertical-align: top;\n",
       "    }\n",
       "\n",
       "    .dataframe thead th {\n",
       "        text-align: right;\n",
       "    }\n",
       "</style>\n",
       "<table border=\"1\" class=\"dataframe\">\n",
       "  <thead>\n",
       "    <tr style=\"text-align: right;\">\n",
       "      <th></th>\n",
       "      <th>id</th>\n",
       "      <th>target</th>\n",
       "      <th>ps_ind_01</th>\n",
       "      <th>ps_ind_02_cat</th>\n",
       "      <th>ps_ind_03</th>\n",
       "      <th>ps_ind_04_cat</th>\n",
       "      <th>ps_ind_05_cat</th>\n",
       "      <th>ps_ind_06_bin</th>\n",
       "      <th>ps_ind_07_bin</th>\n",
       "      <th>ps_ind_08_bin</th>\n",
       "      <th>ps_ind_09_bin</th>\n",
       "      <th>ps_ind_14</th>\n",
       "      <th>ps_ind_15</th>\n",
       "      <th>ps_ind_16_bin</th>\n",
       "      <th>ps_ind_17_bin</th>\n",
       "      <th>ps_ind_18_bin</th>\n",
       "      <th>ps_reg_01</th>\n",
       "      <th>ps_reg_02</th>\n",
       "      <th>ps_reg_03</th>\n",
       "      <th>ps_car_01_cat</th>\n",
       "      <th>ps_car_02_cat</th>\n",
       "      <th>ps_car_03_cat</th>\n",
       "      <th>ps_car_04_cat</th>\n",
       "      <th>ps_car_05_cat</th>\n",
       "      <th>ps_car_06_cat</th>\n",
       "      <th>ps_car_07_cat</th>\n",
       "      <th>ps_car_08_cat</th>\n",
       "      <th>ps_car_09_cat</th>\n",
       "      <th>ps_car_10_cat</th>\n",
       "      <th>ps_car_11_cat</th>\n",
       "      <th>ps_car_11</th>\n",
       "      <th>ps_car_12</th>\n",
       "      <th>ps_car_13</th>\n",
       "      <th>ps_car_14</th>\n",
       "      <th>ps_car_15</th>\n",
       "      <th>ps_calc_04</th>\n",
       "      <th>ps_calc_05</th>\n",
       "      <th>ps_calc_06</th>\n",
       "      <th>ps_calc_07</th>\n",
       "      <th>ps_calc_08</th>\n",
       "      <th>ps_calc_09</th>\n",
       "      <th>ps_calc_10</th>\n",
       "      <th>ps_calc_11</th>\n",
       "      <th>ps_calc_12</th>\n",
       "      <th>ps_calc_13</th>\n",
       "      <th>ps_calc_14</th>\n",
       "      <th>ps_calc_15_bin</th>\n",
       "      <th>ps_calc_16_bin</th>\n",
       "      <th>ps_calc_17_bin</th>\n",
       "      <th>ps_calc_18_bin</th>\n",
       "      <th>ps_calc_19_bin</th>\n",
       "      <th>ps_calc_20_bin</th>\n",
       "      <th>naps_ind_02_cat</th>\n",
       "      <th>naps_ind_04_cat</th>\n",
       "      <th>naps_ind_05_cat</th>\n",
       "      <th>naps_reg_03</th>\n",
       "      <th>naps_car_01_cat</th>\n",
       "      <th>naps_car_02_cat</th>\n",
       "      <th>naps_car_03_cat</th>\n",
       "      <th>naps_car_05_cat</th>\n",
       "      <th>naps_car_07_cat</th>\n",
       "      <th>naps_car_09_cat</th>\n",
       "      <th>naps_car_11</th>\n",
       "      <th>naps_car_12</th>\n",
       "      <th>naps_car_14</th>\n",
       "      <th>sum_bin</th>\n",
       "    </tr>\n",
       "  </thead>\n",
       "  <tbody>\n",
       "    <tr>\n",
       "      <th>0</th>\n",
       "      <td>7</td>\n",
       "      <td>0.0</td>\n",
       "      <td>2</td>\n",
       "      <td>2</td>\n",
       "      <td>5</td>\n",
       "      <td>1</td>\n",
       "      <td>0</td>\n",
       "      <td>0</td>\n",
       "      <td>1</td>\n",
       "      <td>0</td>\n",
       "      <td>0</td>\n",
       "      <td>0</td>\n",
       "      <td>11</td>\n",
       "      <td>0</td>\n",
       "      <td>1</td>\n",
       "      <td>0</td>\n",
       "      <td>0.700195</td>\n",
       "      <td>0.199951</td>\n",
       "      <td>0.718262</td>\n",
       "      <td>10</td>\n",
       "      <td>1</td>\n",
       "      <td>-1</td>\n",
       "      <td>0</td>\n",
       "      <td>1</td>\n",
       "      <td>4</td>\n",
       "      <td>1</td>\n",
       "      <td>0</td>\n",
       "      <td>0</td>\n",
       "      <td>1</td>\n",
       "      <td>12</td>\n",
       "      <td>2</td>\n",
       "      <td>0.399902</td>\n",
       "      <td>0.883789</td>\n",
       "      <td>0.370850</td>\n",
       "      <td>3.605469</td>\n",
       "      <td>3</td>\n",
       "      <td>1</td>\n",
       "      <td>10</td>\n",
       "      <td>1</td>\n",
       "      <td>10</td>\n",
       "      <td>1</td>\n",
       "      <td>5</td>\n",
       "      <td>9</td>\n",
       "      <td>1</td>\n",
       "      <td>5</td>\n",
       "      <td>8</td>\n",
       "      <td>0</td>\n",
       "      <td>1</td>\n",
       "      <td>1</td>\n",
       "      <td>0</td>\n",
       "      <td>0</td>\n",
       "      <td>1</td>\n",
       "      <td>0</td>\n",
       "      <td>0</td>\n",
       "      <td>0</td>\n",
       "      <td>0</td>\n",
       "      <td>0</td>\n",
       "      <td>0</td>\n",
       "      <td>1</td>\n",
       "      <td>0</td>\n",
       "      <td>0</td>\n",
       "      <td>0</td>\n",
       "      <td>0</td>\n",
       "      <td>0</td>\n",
       "      <td>0</td>\n",
       "      <td>4</td>\n",
       "    </tr>\n",
       "    <tr>\n",
       "      <th>1</th>\n",
       "      <td>9</td>\n",
       "      <td>0.0</td>\n",
       "      <td>1</td>\n",
       "      <td>1</td>\n",
       "      <td>7</td>\n",
       "      <td>0</td>\n",
       "      <td>0</td>\n",
       "      <td>0</td>\n",
       "      <td>0</td>\n",
       "      <td>1</td>\n",
       "      <td>0</td>\n",
       "      <td>0</td>\n",
       "      <td>3</td>\n",
       "      <td>0</td>\n",
       "      <td>0</td>\n",
       "      <td>1</td>\n",
       "      <td>0.799805</td>\n",
       "      <td>0.399902</td>\n",
       "      <td>0.766113</td>\n",
       "      <td>11</td>\n",
       "      <td>1</td>\n",
       "      <td>-1</td>\n",
       "      <td>0</td>\n",
       "      <td>-1</td>\n",
       "      <td>11</td>\n",
       "      <td>1</td>\n",
       "      <td>1</td>\n",
       "      <td>2</td>\n",
       "      <td>1</td>\n",
       "      <td>19</td>\n",
       "      <td>3</td>\n",
       "      <td>0.316162</td>\n",
       "      <td>0.618652</td>\n",
       "      <td>0.388672</td>\n",
       "      <td>2.449219</td>\n",
       "      <td>2</td>\n",
       "      <td>1</td>\n",
       "      <td>9</td>\n",
       "      <td>5</td>\n",
       "      <td>8</td>\n",
       "      <td>1</td>\n",
       "      <td>7</td>\n",
       "      <td>3</td>\n",
       "      <td>1</td>\n",
       "      <td>1</td>\n",
       "      <td>9</td>\n",
       "      <td>0</td>\n",
       "      <td>1</td>\n",
       "      <td>1</td>\n",
       "      <td>0</td>\n",
       "      <td>1</td>\n",
       "      <td>0</td>\n",
       "      <td>0</td>\n",
       "      <td>0</td>\n",
       "      <td>0</td>\n",
       "      <td>0</td>\n",
       "      <td>0</td>\n",
       "      <td>0</td>\n",
       "      <td>1</td>\n",
       "      <td>1</td>\n",
       "      <td>0</td>\n",
       "      <td>0</td>\n",
       "      <td>0</td>\n",
       "      <td>0</td>\n",
       "      <td>0</td>\n",
       "      <td>4</td>\n",
       "    </tr>\n",
       "    <tr>\n",
       "      <th>2</th>\n",
       "      <td>13</td>\n",
       "      <td>0.0</td>\n",
       "      <td>5</td>\n",
       "      <td>4</td>\n",
       "      <td>9</td>\n",
       "      <td>1</td>\n",
       "      <td>0</td>\n",
       "      <td>0</td>\n",
       "      <td>0</td>\n",
       "      <td>1</td>\n",
       "      <td>0</td>\n",
       "      <td>0</td>\n",
       "      <td>12</td>\n",
       "      <td>1</td>\n",
       "      <td>0</td>\n",
       "      <td>0</td>\n",
       "      <td>0.000000</td>\n",
       "      <td>0.000000</td>\n",
       "      <td>-1.000000</td>\n",
       "      <td>7</td>\n",
       "      <td>1</td>\n",
       "      <td>-1</td>\n",
       "      <td>0</td>\n",
       "      <td>-1</td>\n",
       "      <td>14</td>\n",
       "      <td>1</td>\n",
       "      <td>1</td>\n",
       "      <td>2</td>\n",
       "      <td>1</td>\n",
       "      <td>60</td>\n",
       "      <td>1</td>\n",
       "      <td>0.316162</td>\n",
       "      <td>0.641602</td>\n",
       "      <td>0.347168</td>\n",
       "      <td>3.316406</td>\n",
       "      <td>2</td>\n",
       "      <td>2</td>\n",
       "      <td>9</td>\n",
       "      <td>1</td>\n",
       "      <td>8</td>\n",
       "      <td>2</td>\n",
       "      <td>7</td>\n",
       "      <td>4</td>\n",
       "      <td>2</td>\n",
       "      <td>7</td>\n",
       "      <td>7</td>\n",
       "      <td>0</td>\n",
       "      <td>1</td>\n",
       "      <td>1</td>\n",
       "      <td>0</td>\n",
       "      <td>1</td>\n",
       "      <td>0</td>\n",
       "      <td>0</td>\n",
       "      <td>0</td>\n",
       "      <td>0</td>\n",
       "      <td>1</td>\n",
       "      <td>0</td>\n",
       "      <td>0</td>\n",
       "      <td>1</td>\n",
       "      <td>1</td>\n",
       "      <td>0</td>\n",
       "      <td>0</td>\n",
       "      <td>0</td>\n",
       "      <td>0</td>\n",
       "      <td>0</td>\n",
       "      <td>4</td>\n",
       "    </tr>\n",
       "    <tr>\n",
       "      <th>3</th>\n",
       "      <td>16</td>\n",
       "      <td>0.0</td>\n",
       "      <td>0</td>\n",
       "      <td>1</td>\n",
       "      <td>2</td>\n",
       "      <td>0</td>\n",
       "      <td>0</td>\n",
       "      <td>1</td>\n",
       "      <td>0</td>\n",
       "      <td>0</td>\n",
       "      <td>0</td>\n",
       "      <td>0</td>\n",
       "      <td>8</td>\n",
       "      <td>1</td>\n",
       "      <td>0</td>\n",
       "      <td>0</td>\n",
       "      <td>0.899902</td>\n",
       "      <td>0.199951</td>\n",
       "      <td>0.581055</td>\n",
       "      <td>7</td>\n",
       "      <td>1</td>\n",
       "      <td>0</td>\n",
       "      <td>0</td>\n",
       "      <td>1</td>\n",
       "      <td>11</td>\n",
       "      <td>1</td>\n",
       "      <td>1</td>\n",
       "      <td>3</td>\n",
       "      <td>1</td>\n",
       "      <td>104</td>\n",
       "      <td>1</td>\n",
       "      <td>0.374268</td>\n",
       "      <td>0.542969</td>\n",
       "      <td>0.294922</td>\n",
       "      <td>2.000000</td>\n",
       "      <td>2</td>\n",
       "      <td>4</td>\n",
       "      <td>7</td>\n",
       "      <td>1</td>\n",
       "      <td>8</td>\n",
       "      <td>4</td>\n",
       "      <td>2</td>\n",
       "      <td>2</td>\n",
       "      <td>2</td>\n",
       "      <td>4</td>\n",
       "      <td>9</td>\n",
       "      <td>0</td>\n",
       "      <td>0</td>\n",
       "      <td>0</td>\n",
       "      <td>0</td>\n",
       "      <td>0</td>\n",
       "      <td>0</td>\n",
       "      <td>0</td>\n",
       "      <td>0</td>\n",
       "      <td>0</td>\n",
       "      <td>0</td>\n",
       "      <td>0</td>\n",
       "      <td>0</td>\n",
       "      <td>0</td>\n",
       "      <td>0</td>\n",
       "      <td>0</td>\n",
       "      <td>0</td>\n",
       "      <td>0</td>\n",
       "      <td>0</td>\n",
       "      <td>0</td>\n",
       "      <td>1</td>\n",
       "    </tr>\n",
       "    <tr>\n",
       "      <th>4</th>\n",
       "      <td>17</td>\n",
       "      <td>0.0</td>\n",
       "      <td>0</td>\n",
       "      <td>2</td>\n",
       "      <td>0</td>\n",
       "      <td>1</td>\n",
       "      <td>0</td>\n",
       "      <td>1</td>\n",
       "      <td>0</td>\n",
       "      <td>0</td>\n",
       "      <td>0</td>\n",
       "      <td>0</td>\n",
       "      <td>9</td>\n",
       "      <td>1</td>\n",
       "      <td>0</td>\n",
       "      <td>0</td>\n",
       "      <td>0.700195</td>\n",
       "      <td>0.600098</td>\n",
       "      <td>0.840820</td>\n",
       "      <td>11</td>\n",
       "      <td>1</td>\n",
       "      <td>-1</td>\n",
       "      <td>0</td>\n",
       "      <td>-1</td>\n",
       "      <td>14</td>\n",
       "      <td>1</td>\n",
       "      <td>1</td>\n",
       "      <td>2</td>\n",
       "      <td>1</td>\n",
       "      <td>82</td>\n",
       "      <td>3</td>\n",
       "      <td>0.316162</td>\n",
       "      <td>0.565918</td>\n",
       "      <td>0.364990</td>\n",
       "      <td>2.000000</td>\n",
       "      <td>2</td>\n",
       "      <td>2</td>\n",
       "      <td>6</td>\n",
       "      <td>3</td>\n",
       "      <td>10</td>\n",
       "      <td>2</td>\n",
       "      <td>12</td>\n",
       "      <td>3</td>\n",
       "      <td>1</td>\n",
       "      <td>1</td>\n",
       "      <td>3</td>\n",
       "      <td>0</td>\n",
       "      <td>0</td>\n",
       "      <td>0</td>\n",
       "      <td>1</td>\n",
       "      <td>1</td>\n",
       "      <td>0</td>\n",
       "      <td>0</td>\n",
       "      <td>0</td>\n",
       "      <td>0</td>\n",
       "      <td>0</td>\n",
       "      <td>0</td>\n",
       "      <td>0</td>\n",
       "      <td>1</td>\n",
       "      <td>1</td>\n",
       "      <td>0</td>\n",
       "      <td>0</td>\n",
       "      <td>0</td>\n",
       "      <td>0</td>\n",
       "      <td>0</td>\n",
       "      <td>3</td>\n",
       "    </tr>\n",
       "  </tbody>\n",
       "</table>\n",
       "</div>"
      ],
      "text/plain": [
       "   id  target  ps_ind_01  ps_ind_02_cat  ps_ind_03  ps_ind_04_cat  \\\n",
       "0   7     0.0          2              2          5              1   \n",
       "1   9     0.0          1              1          7              0   \n",
       "2  13     0.0          5              4          9              1   \n",
       "3  16     0.0          0              1          2              0   \n",
       "4  17     0.0          0              2          0              1   \n",
       "\n",
       "   ps_ind_05_cat  ps_ind_06_bin  ps_ind_07_bin  ps_ind_08_bin  ps_ind_09_bin  \\\n",
       "0              0              0              1              0              0   \n",
       "1              0              0              0              1              0   \n",
       "2              0              0              0              1              0   \n",
       "3              0              1              0              0              0   \n",
       "4              0              1              0              0              0   \n",
       "\n",
       "   ps_ind_14  ps_ind_15  ps_ind_16_bin  ps_ind_17_bin  ps_ind_18_bin  \\\n",
       "0          0         11              0              1              0   \n",
       "1          0          3              0              0              1   \n",
       "2          0         12              1              0              0   \n",
       "3          0          8              1              0              0   \n",
       "4          0          9              1              0              0   \n",
       "\n",
       "   ps_reg_01  ps_reg_02  ps_reg_03  ps_car_01_cat  ps_car_02_cat  \\\n",
       "0   0.700195   0.199951   0.718262             10              1   \n",
       "1   0.799805   0.399902   0.766113             11              1   \n",
       "2   0.000000   0.000000  -1.000000              7              1   \n",
       "3   0.899902   0.199951   0.581055              7              1   \n",
       "4   0.700195   0.600098   0.840820             11              1   \n",
       "\n",
       "   ps_car_03_cat  ps_car_04_cat  ps_car_05_cat  ps_car_06_cat  ps_car_07_cat  \\\n",
       "0             -1              0              1              4              1   \n",
       "1             -1              0             -1             11              1   \n",
       "2             -1              0             -1             14              1   \n",
       "3              0              0              1             11              1   \n",
       "4             -1              0             -1             14              1   \n",
       "\n",
       "   ps_car_08_cat  ps_car_09_cat  ps_car_10_cat  ps_car_11_cat  ps_car_11  \\\n",
       "0              0              0              1             12          2   \n",
       "1              1              2              1             19          3   \n",
       "2              1              2              1             60          1   \n",
       "3              1              3              1            104          1   \n",
       "4              1              2              1             82          3   \n",
       "\n",
       "   ps_car_12  ps_car_13  ps_car_14  ps_car_15  ps_calc_04  ps_calc_05  \\\n",
       "0   0.399902   0.883789   0.370850   3.605469           3           1   \n",
       "1   0.316162   0.618652   0.388672   2.449219           2           1   \n",
       "2   0.316162   0.641602   0.347168   3.316406           2           2   \n",
       "3   0.374268   0.542969   0.294922   2.000000           2           4   \n",
       "4   0.316162   0.565918   0.364990   2.000000           2           2   \n",
       "\n",
       "   ps_calc_06  ps_calc_07  ps_calc_08  ps_calc_09  ps_calc_10  ps_calc_11  \\\n",
       "0          10           1          10           1           5           9   \n",
       "1           9           5           8           1           7           3   \n",
       "2           9           1           8           2           7           4   \n",
       "3           7           1           8           4           2           2   \n",
       "4           6           3          10           2          12           3   \n",
       "\n",
       "   ps_calc_12  ps_calc_13  ps_calc_14  ps_calc_15_bin  ps_calc_16_bin  \\\n",
       "0           1           5           8               0               1   \n",
       "1           1           1           9               0               1   \n",
       "2           2           7           7               0               1   \n",
       "3           2           4           9               0               0   \n",
       "4           1           1           3               0               0   \n",
       "\n",
       "   ps_calc_17_bin  ps_calc_18_bin  ps_calc_19_bin  ps_calc_20_bin  \\\n",
       "0               1               0               0               1   \n",
       "1               1               0               1               0   \n",
       "2               1               0               1               0   \n",
       "3               0               0               0               0   \n",
       "4               0               1               1               0   \n",
       "\n",
       "   naps_ind_02_cat  naps_ind_04_cat  naps_ind_05_cat  naps_reg_03  \\\n",
       "0                0                0                0            0   \n",
       "1                0                0                0            0   \n",
       "2                0                0                0            1   \n",
       "3                0                0                0            0   \n",
       "4                0                0                0            0   \n",
       "\n",
       "   naps_car_01_cat  naps_car_02_cat  naps_car_03_cat  naps_car_05_cat  \\\n",
       "0                0                0                1                0   \n",
       "1                0                0                1                1   \n",
       "2                0                0                1                1   \n",
       "3                0                0                0                0   \n",
       "4                0                0                1                1   \n",
       "\n",
       "   naps_car_07_cat  naps_car_09_cat  naps_car_11  naps_car_12  naps_car_14  \\\n",
       "0                0                0            0            0            0   \n",
       "1                0                0            0            0            0   \n",
       "2                0                0            0            0            0   \n",
       "3                0                0            0            0            0   \n",
       "4                0                0            0            0            0   \n",
       "\n",
       "   sum_bin  \n",
       "0        4  \n",
       "1        4  \n",
       "2        4  \n",
       "3        1  \n",
       "4        3  "
      ]
     },
     "execution_count": 110,
     "metadata": {},
     "output_type": "execute_result"
    }
   ],
   "source": [
    "df_cat.head()"
   ]
  },
  {
   "cell_type": "code",
   "execution_count": 113,
   "metadata": {
    "ExecuteTime": {
     "end_time": "2020-03-16T14:44:32.504502Z",
     "start_time": "2020-03-16T14:36:30.523205Z"
    }
   },
   "outputs": [
    {
     "name": "stderr",
     "output_type": "stream",
     "text": [
      "C:\\anaconda\\envs\\kaggle\\lib\\site-packages\\sklearn\\model_selection\\_split.py:296: FutureWarning: Setting a random_state has no effect since shuffle is False. This will raise an error in 0.24. You should leave random_state to its default (None), or set shuffle=True.\n",
      "  FutureWarning\n",
      "[Parallel(n_jobs=-1)]: Using backend LokyBackend with 8 concurrent workers.\n",
      "[Parallel(n_jobs=-1)]: Done   2 out of   5 | elapsed:  7.9min remaining: 11.9min\n"
     ]
    },
    {
     "name": "stdout",
     "output_type": "stream",
     "text": [
      "cross-val-score : [0.16934305 0.17450451 0.17105258 0.17208369 0.1778606 ]\n",
      "cross-val-score(mean) : 0.1729688870746614\n"
     ]
    },
    {
     "name": "stderr",
     "output_type": "stream",
     "text": [
      "[Parallel(n_jobs=-1)]: Done   5 out of   5 | elapsed:  8.0min remaining:    0.0s\n",
      "[Parallel(n_jobs=-1)]: Done   5 out of   5 | elapsed:  8.0min finished\n"
     ]
    }
   ],
   "source": [
    "# df_cat\n",
    "X = df_cat[:595212].drop(['id', 'target'], axis=1)\n",
    "y = train['target']\n",
    "\n",
    "rfc = RandomForestClassifier()\n",
    "\n",
    "sfkf = StratifiedKFold(n_splits=5, random_state=1).split(X, y)\n",
    "\n",
    "cv_score = cross_val_score(rfc, X, y, cv=sfkf, scoring=gini_sklearn, verbose=2, n_jobs=-1)\n",
    "\n",
    "print(f'cross-val-score : {cv_score}')\n",
    "print(f'cross-val-score(mean) : {cv_score.mean()}')"
   ]
  },
  {
   "cell_type": "code",
   "execution_count": 114,
   "metadata": {
    "ExecuteTime": {
     "end_time": "2020-03-16T14:52:20.727935Z",
     "start_time": "2020-03-16T14:44:32.510545Z"
    }
   },
   "outputs": [
    {
     "name": "stderr",
     "output_type": "stream",
     "text": [
      "C:\\anaconda\\envs\\kaggle\\lib\\site-packages\\sklearn\\model_selection\\_split.py:296: FutureWarning: Setting a random_state has no effect since shuffle is False. This will raise an error in 0.24. You should leave random_state to its default (None), or set shuffle=True.\n",
      "  FutureWarning\n",
      "[Parallel(n_jobs=-1)]: Using backend LokyBackend with 8 concurrent workers.\n",
      "[Parallel(n_jobs=-1)]: Done   2 out of   5 | elapsed:  7.7min remaining: 11.6min\n"
     ]
    },
    {
     "name": "stdout",
     "output_type": "stream",
     "text": [
      "cross-val-score : [0.15985465 0.17070352 0.19272178 0.17323307 0.18108293]\n",
      "cross-val-score(mean) : 0.1755191889221171\n"
     ]
    },
    {
     "name": "stderr",
     "output_type": "stream",
     "text": [
      "[Parallel(n_jobs=-1)]: Done   5 out of   5 | elapsed:  7.8min remaining:    0.0s\n",
      "[Parallel(n_jobs=-1)]: Done   5 out of   5 | elapsed:  7.8min finished\n"
     ]
    }
   ],
   "source": [
    "# df_cat\n",
    "X = df_target[:595212].drop(['id', 'target'], axis=1)\n",
    "y = train['target']\n",
    "\n",
    "rfc = RandomForestClassifier()\n",
    "\n",
    "sfkf = StratifiedKFold(n_splits=5, random_state=1).split(X, y)\n",
    "\n",
    "cv_score = cross_val_score(rfc, X, y, cv=sfkf, scoring=gini_sklearn, verbose=2, n_jobs=-1)\n",
    "\n",
    "print(f'cross-val-score : {cv_score}')\n",
    "print(f'cross-val-score(mean) : {cv_score.mean()}')"
   ]
  }
 ],
 "metadata": {
  "kernelspec": {
   "display_name": "Python 3.7.2 64-bit ('kaggle': conda)",
   "language": "python",
   "name": "python37264bitkaggleconda51efce5a1c864215899780baec3c9eaf"
  },
  "language_info": {
   "codemirror_mode": {
    "name": "ipython",
    "version": 3
   },
   "file_extension": ".py",
   "mimetype": "text/x-python",
   "name": "python",
   "nbconvert_exporter": "python",
   "pygments_lexer": "ipython3",
   "version": "3.7.2"
  },
  "toc": {
   "base_numbering": 1,
   "nav_menu": {},
   "number_sections": true,
   "sideBar": true,
   "skip_h1_title": false,
   "title_cell": "Table of Contents",
   "title_sidebar": "Contents",
   "toc_cell": false,
   "toc_position": {},
   "toc_section_display": true,
   "toc_window_display": false
  }
 },
 "nbformat": 4,
 "nbformat_minor": 4
}
